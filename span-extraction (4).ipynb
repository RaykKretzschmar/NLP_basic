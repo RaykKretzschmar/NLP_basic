{
 "cells": [
  {
   "cell_type": "code",
   "execution_count": null,
   "metadata": {},
   "outputs": [],
   "source": [
    "import spacy\n",
    "from spacy.tokens import Doc\n",
    "from spacy.matcher import Matcher\n",
    "from zipfile import ZipFile\n",
    "from pathlib import Path\n",
    "from seqeval.metrics import classification_report\n",
    "from seqeval import scheme\n",
    "from tqdm import autonotebook as tqdm\n"
   ]
  },
  {
   "cell_type": "code",
   "execution_count": null,
   "metadata": {},
   "outputs": [],
   "source": [
    "nlp = spacy.load(\"en_core_web_sm\")"
   ]
  },
  {
   "cell_type": "code",
   "execution_count": null,
   "metadata": {},
   "outputs": [],
   "source": [
    "data_dir = Path(\"./data/teaching-dataset\")\n",
    "with (data_dir / \"span_extraction_text_train.zip\").open(\"rb\") as file:\n",
    "    zip_file = ZipFile(file)\n",
    "    with zip_file.open(\"input.txt\") as f:\n",
    "        sentences = [\n",
    "            sentence.split(\"\\n\") for sentence in f.read().decode(\"utf-8\").split(\"\\n\\n\")\n",
    "        ]\n",
    "with (data_dir / \"span_extraction_references_train.zip\").open(\"rb\") as file:\n",
    "    zip_file = ZipFile(file)\n",
    "    with zip_file.open(\"references.txt\") as f:\n",
    "        labels = [\n",
    "            sentence.split(\"\\n\") for sentence in f.read().decode(\"utf-8\").split(\"\\n\\n\")\n",
    "        ]"
   ]
  },
  {
   "cell_type": "code",
   "execution_count": null,
   "metadata": {},
   "outputs": [],
   "source": [
    "for token, label in zip(sentences[0], labels[0]):\n",
    "    print(f\"{token :<16} {label}\")"
   ]
  },
  {
   "cell_type": "code",
   "execution_count": null,
   "metadata": {},
   "outputs": [],
   "source": [
    "doc = Doc(nlp.vocab, words=sentences[0])\n",
    "doc = nlp(doc)"
   ]
  },
  {
   "cell_type": "code",
   "execution_count": null,
   "metadata": {},
   "outputs": [],
   "source": [
    "for token in doc:\n",
    "    print(token, token.pos_, token.dep_)"
   ]
  },
  {
   "cell_type": "code",
   "execution_count": null,
   "metadata": {},
   "outputs": [],
   "source": [
    "for chunk in doc.noun_chunks:\n",
    "    print(chunk)"
   ]
  },
  {
   "cell_type": "code",
   "execution_count": null,
   "metadata": {},
   "outputs": [],
   "source": [
    "def predict_1(sentence):\n",
    "    doc = Doc(nlp.vocab, words=sentence)\n",
    "    doc = nlp(doc)\n",
    "    predictions = [\"O\"] * len(sentence)\n",
    "    for noun_chunk in doc.noun_chunks:\n",
    "        predictions[noun_chunk.start] = \"B-EVENT\"\n",
    "        for i in range(noun_chunk.start + 1, noun_chunk.end):\n",
    "            predictions[i] = \"I-EVENT\"\n",
    "    return predictions\n",
    "\n",
    "def predict_2(sentence):\n",
    "    doc = Doc(nlp.vocab, words=sentence)\n",
    "    doc = nlp(doc)\n",
    "    matcher = Matcher(nlp.vocab)\n",
    "    pattern = [\n",
    "        {\"POS\": {\"IN\": [\"NOUN\", \"PROPN\", \"ADJ\"]}, \"OP\": \"+\"},\n",
    "    ]\n",
    "    matcher.add(\"EVENT\", [pattern])\n",
    "    predictions = [\"O\"] * len(sentence)\n",
    "    matches = matcher(doc)\n",
    "    spans = [doc[start:end] for _, start, end in matches]\n",
    "    for span in spacy.util.filter_spans(spans):\n",
    "        predictions[span.start] = \"B-EVENT\"\n",
    "        for i in range(span.start + 1, span.end):\n",
    "            predictions[i] = \"I-EVENT\"\n",
    "    return predictions"
   ]
  },
  {
   "cell_type": "code",
   "execution_count": null,
   "metadata": {},
   "outputs": [],
   "source": [
    "idx = 1\n",
    "sentence = sentences[idx]\n",
    "doc = Doc(nlp.vocab, words=sentence)\n",
    "doc = nlp(doc)\n",
    "iterator = zip(doc, predict_1(sentences[idx]), predict_2(sentences[idx]), labels[idx])\n",
    "for token, pred_1, pred_2, label in iterator:\n",
    "    print(f\"{token.text :<16} {label :<8} {pred_1 :<8} {pred_2 :<8} {token.pos_ :<8}\")"
   ]
  },
  {
   "cell_type": "code",
   "execution_count": null,
   "metadata": {},
   "outputs": [],
   "source": [
    "predictions_1 = [predict_1(sentence) for sentence in tqdm.tqdm(sentences)]\n",
    "print(classification_report(labels, predictions_1, scheme=scheme.IOB2, mode=\"strict\"))"
   ]
  },
  {
   "cell_type": "code",
   "execution_count": null,
   "metadata": {},
   "outputs": [],
   "source": [
    "predictions_2 = [predict_2(sentence) for sentence in tqdm.tqdm(sentences)]\n",
    "print(classification_report(labels, predictions_2, scheme=scheme.IOB2, mode=\"strict\"))"
   ]
  },
  {
   "cell_type": "code",
   "execution_count": null,
   "metadata": {},
   "outputs": [],
   "source": [
    "def print_prediction(sentence, prediction, labels):\n",
    "    for token, pred, label in zip(sentence, prediction, labels):\n",
    "        print(f\"{token :<16} {pred :<8} {label}\")\n",
    "\n",
    "idx = 1\n",
    "print_prediction(sentences[idx], predictions_1[idx], labels[idx])"
   ]
  },
  {
   "cell_type": "code",
   "execution_count": null,
   "metadata": {},
   "outputs": [],
   "source": [
    "Path(\"predictions.txt\").write_text(\"\\n\\n\".join([\"\\n\".join(sentence) for sentence in predictions_2]));"
   ]
  },
  {
   "cell_type": "code",
   "execution_count": null,
   "metadata": {},
   "outputs": [],
   "source": [
    "# evaluation wie auf tira\n",
    "# evaluate ist ein package, das ihr installieren müsst, `pip install evaluate`\n",
    "import evaluate\n",
    "\n",
    "# speichert die training predictions unter predictions.txt ab\n",
    "# führt dann diese zelle aus. falls alles funktioniert, sollte es auch auf tira gehen\n",
    "# auf tira aber natürlich den test datensatz verwenden!!!!\n",
    "\n",
    "loaded_predictions = list(sentence.split(\"\\n\") for sentence in Path(\"predictions.txt\").read_text().split(\"\\n\\n\"))\n",
    "\n",
    "evaluator = evaluate.load(\"fschlatt/ner_eval\")\n",
    "evaluator.compute(predictions=loaded_predictions, references=labels)"
   ]
  }
 ],
 "metadata": {
  "kernelspec": {
   "display_name": "Python 3 (ipykernel)",
   "language": "python",
   "name": "python3"
  },
  "language_info": {
   "codemirror_mode": {
    "name": "ipython",
    "version": 3
   },
   "file_extension": ".py",
   "mimetype": "text/x-python",
   "name": "python",
   "nbconvert_exporter": "python",
   "pygments_lexer": "ipython3",
   "version": "3.11.2"
  }
 },
 "nbformat": 4,
 "nbformat_minor": 2
}
